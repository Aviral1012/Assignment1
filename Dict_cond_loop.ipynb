{
 "cells": [
  {
   "cell_type": "code",
   "execution_count": 1,
   "id": "5c85329c-5bd0-49f9-a1ea-1c1cd551dde4",
   "metadata": {},
   "outputs": [],
   "source": [
    "         #Dictionary"
   ]
  },
  {
   "cell_type": "code",
   "execution_count": 2,
   "id": "79e19ef2-3ce3-4d91-b800-d19f068a597a",
   "metadata": {},
   "outputs": [],
   "source": [
    "d={}"
   ]
  },
  {
   "cell_type": "code",
   "execution_count": 3,
   "id": "9bc0ff19-cf28-4e6b-8b88-bb70ca131396",
   "metadata": {},
   "outputs": [
    {
     "data": {
      "text/plain": [
       "dict"
      ]
     },
     "execution_count": 3,
     "metadata": {},
     "output_type": "execute_result"
    }
   ],
   "source": [
    "type(d)"
   ]
  },
  {
   "cell_type": "code",
   "execution_count": 4,
   "id": "955c81f2-fa8c-4c21-b531-bb71c32a003d",
   "metadata": {},
   "outputs": [],
   "source": [
    "    # d1={'KEY':\"value\"}"
   ]
  },
  {
   "cell_type": "code",
   "execution_count": 5,
   "id": "842434d5-698a-4ff8-ba39-3db8f87a11ef",
   "metadata": {},
   "outputs": [],
   "source": [
    "d1={'Key':\"aviral\"}"
   ]
  },
  {
   "cell_type": "code",
   "execution_count": 6,
   "id": "631e6b3d-57ae-4c24-b156-7540885981fa",
   "metadata": {},
   "outputs": [
    {
     "data": {
      "text/plain": [
       "{'Key': 'aviral'}"
      ]
     },
     "execution_count": 6,
     "metadata": {},
     "output_type": "execute_result"
    }
   ],
   "source": [
    "d1"
   ]
  },
  {
   "cell_type": "code",
   "execution_count": 9,
   "id": "075f8a24-a819-4cbc-9be0-ec2bb86499a2",
   "metadata": {},
   "outputs": [],
   "source": [
    "d2={\"name\":\"aviral\",\"email\":\"aviralpandey1012@gmail.com\"}"
   ]
  },
  {
   "cell_type": "code",
   "execution_count": 10,
   "id": "cd91d2d2-abd2-46d1-a620-efdb16cdd199",
   "metadata": {},
   "outputs": [
    {
     "data": {
      "text/plain": [
       "{'name': 'aviral', 'email': 'aviralpandey1012@gmail.com'}"
      ]
     },
     "execution_count": 10,
     "metadata": {},
     "output_type": "execute_result"
    }
   ],
   "source": [
    "d2"
   ]
  },
  {
   "cell_type": "code",
   "execution_count": 18,
   "id": "58430746-d1cf-40d1-a423-63e2b9060816",
   "metadata": {},
   "outputs": [],
   "source": [
    "d3={232:\"avi\",\"@er\":\"avir\",True:1234}"
   ]
  },
  {
   "cell_type": "code",
   "execution_count": 19,
   "id": "72b4b246-1ace-492c-b348-262259571032",
   "metadata": {},
   "outputs": [
    {
     "data": {
      "text/plain": [
       "{232: 'avi', '@er': 'avir', True: 1234}"
      ]
     },
     "execution_count": 19,
     "metadata": {},
     "output_type": "execute_result"
    }
   ],
   "source": [
    "d3"
   ]
  },
  {
   "cell_type": "code",
   "execution_count": 20,
   "id": "4af5c246-e2b7-4d3a-9747-2f34870f7e00",
   "metadata": {},
   "outputs": [
    {
     "data": {
      "text/plain": [
       "1234"
      ]
     },
     "execution_count": 20,
     "metadata": {},
     "output_type": "execute_result"
    }
   ],
   "source": [
    "d3[1]"
   ]
  },
  {
   "cell_type": "code",
   "execution_count": 21,
   "id": "43ace4d7-40c0-4c14-978d-c6116b0d97c2",
   "metadata": {},
   "outputs": [
    {
     "data": {
      "text/plain": [
       "'avi'"
      ]
     },
     "execution_count": 21,
     "metadata": {},
     "output_type": "execute_result"
    }
   ],
   "source": [
    "d3[232]"
   ]
  },
  {
   "cell_type": "code",
   "execution_count": 23,
   "id": "c83efac5-d329-4c04-82d4-b384a972fb68",
   "metadata": {},
   "outputs": [],
   "source": [
    "d4={\"name\":\"aviral\",\"email\":\"avi@gmail.com\",\"name\":\"aviral\"}"
   ]
  },
  {
   "cell_type": "code",
   "execution_count": 26,
   "id": "67b47b5e-0b00-4412-8526-c9e31c56a0d3",
   "metadata": {},
   "outputs": [
    {
     "data": {
      "text/plain": [
       "'aviral'"
      ]
     },
     "execution_count": 26,
     "metadata": {},
     "output_type": "execute_result"
    }
   ],
   "source": [
    "d4[\"name\"]"
   ]
  },
  {
   "cell_type": "code",
   "execution_count": 27,
   "id": "99763c6f-d07d-4f09-82c2-0803a7e6216e",
   "metadata": {},
   "outputs": [],
   "source": [
    "d5={\"company\":\"pwskills\",\"course\":[\"data science\",\"java\",\"web dev\"]}"
   ]
  },
  {
   "cell_type": "code",
   "execution_count": 28,
   "id": "8a029a59-8fa4-4d5e-8b25-2e6d6a6886a7",
   "metadata": {},
   "outputs": [
    {
     "data": {
      "text/plain": [
       "{'company': 'pwskills', 'course': ['data science', 'java', 'web dev']}"
      ]
     },
     "execution_count": 28,
     "metadata": {},
     "output_type": "execute_result"
    }
   ],
   "source": [
    "d5"
   ]
  },
  {
   "cell_type": "code",
   "execution_count": 29,
   "id": "bba7301b-8637-4bf3-9ecc-528662b24d39",
   "metadata": {},
   "outputs": [
    {
     "data": {
      "text/plain": [
       "['data science', 'java', 'web dev']"
      ]
     },
     "execution_count": 29,
     "metadata": {},
     "output_type": "execute_result"
    }
   ],
   "source": [
    "d5[\"course\"]"
   ]
  },
  {
   "cell_type": "code",
   "execution_count": 31,
   "id": "e0407644-87d8-401d-a9c8-9803da4301db",
   "metadata": {},
   "outputs": [
    {
     "data": {
      "text/plain": [
       "'web dev'"
      ]
     },
     "execution_count": 31,
     "metadata": {},
     "output_type": "execute_result"
    }
   ],
   "source": [
    "d5[\"course\"][2]"
   ]
  },
  {
   "cell_type": "code",
   "execution_count": 34,
   "id": "246d179a-bf78-4f82-a31b-1b4764477d48",
   "metadata": {},
   "outputs": [],
   "source": [
    "d6={\"number\":[2,32,1,43,99],\"assignment\":(1,2,3,2,340),\"launch_date\":{28,12,14},\"class_time\":{\"time\":8,\"mon\":28}}"
   ]
  },
  {
   "cell_type": "code",
   "execution_count": 35,
   "id": "7117ebf2-8419-4f53-9f60-a157521c5541",
   "metadata": {},
   "outputs": [
    {
     "data": {
      "text/plain": [
       "{'number': [2, 32, 1, 43, 99],\n",
       " 'assignment': (1, 2, 3, 2, 340),\n",
       " 'launch_date': {12, 14, 28},\n",
       " 'class_time': {'time': 8, 'mon': 28}}"
      ]
     },
     "execution_count": 35,
     "metadata": {},
     "output_type": "execute_result"
    }
   ],
   "source": [
    "d6"
   ]
  },
  {
   "cell_type": "code",
   "execution_count": 37,
   "id": "249a2e56-1419-49ac-a00e-746d4377edba",
   "metadata": {},
   "outputs": [
    {
     "data": {
      "text/plain": [
       "28"
      ]
     },
     "execution_count": 37,
     "metadata": {},
     "output_type": "execute_result"
    }
   ],
   "source": [
    "d6[\"class_time\"][\"mon\"]"
   ]
  },
  {
   "cell_type": "code",
   "execution_count": 38,
   "id": "c460ec28-50c7-42d0-bd94-ba0b39410fe8",
   "metadata": {},
   "outputs": [
    {
     "data": {
      "text/plain": [
       "{'number': [2, 32, 1, 43, 99],\n",
       " 'assignment': (1, 2, 3, 2, 340),\n",
       " 'launch_date': {12, 14, 28},\n",
       " 'class_time': {'time': 8, 'mon': 28}}"
      ]
     },
     "execution_count": 38,
     "metadata": {},
     "output_type": "execute_result"
    }
   ],
   "source": [
    "d6"
   ]
  },
  {
   "cell_type": "code",
   "execution_count": 39,
   "id": "55fd09ae-804b-4d13-91da-5dc3205f2650",
   "metadata": {},
   "outputs": [],
   "source": [
    "d6[\"mentor\"]=[\"sudhanshu\",\"Krish\",\"anurag\"]"
   ]
  },
  {
   "cell_type": "code",
   "execution_count": 40,
   "id": "fa21fb2f-7892-40f7-87ff-9454821ec30e",
   "metadata": {},
   "outputs": [
    {
     "data": {
      "text/plain": [
       "{'number': [2, 32, 1, 43, 99],\n",
       " 'assignment': (1, 2, 3, 2, 340),\n",
       " 'launch_date': {12, 14, 28},\n",
       " 'class_time': {'time': 8, 'mon': 28},\n",
       " 'mentor': ['sudhanshu', 'Krish', 'anurag']}"
      ]
     },
     "execution_count": 40,
     "metadata": {},
     "output_type": "execute_result"
    }
   ],
   "source": [
    "d6"
   ]
  },
  {
   "cell_type": "code",
   "execution_count": 41,
   "id": "075f8687-fd88-470b-a0f0-322066df57fa",
   "metadata": {},
   "outputs": [],
   "source": [
    "del d6[\"number\"]"
   ]
  },
  {
   "cell_type": "code",
   "execution_count": 42,
   "id": "b6a142ac-e4a0-495f-9d7d-3e6afeccb802",
   "metadata": {},
   "outputs": [
    {
     "data": {
      "text/plain": [
       "{'assignment': (1, 2, 3, 2, 340),\n",
       " 'launch_date': {12, 14, 28},\n",
       " 'class_time': {'time': 8, 'mon': 28},\n",
       " 'mentor': ['sudhanshu', 'Krish', 'anurag']}"
      ]
     },
     "execution_count": 42,
     "metadata": {},
     "output_type": "execute_result"
    }
   ],
   "source": [
    "d6"
   ]
  },
  {
   "cell_type": "code",
   "execution_count": 46,
   "id": "5eaf0fa3-bfcd-4e23-8323-579616d0ba51",
   "metadata": {},
   "outputs": [
    {
     "data": {
      "text/plain": [
       "[('assignment', (1, 2, 3, 2, 340)),\n",
       " ('launch_date', {12, 14, 28}),\n",
       " ('class_time', {'time': 8, 'mon': 28}),\n",
       " ('mentor', ['sudhanshu', 'Krish', 'anurag'])]"
      ]
     },
     "execution_count": 46,
     "metadata": {},
     "output_type": "execute_result"
    }
   ],
   "source": [
    "list(d6.items())"
   ]
  },
  {
   "cell_type": "code",
   "execution_count": 47,
   "id": "024465ea-db73-4e9b-b54d-0d098faaa40e",
   "metadata": {},
   "outputs": [
    {
     "data": {
      "text/plain": [
       "{'assignment': (1, 2, 3, 2, 340),\n",
       " 'launch_date': {12, 14, 28},\n",
       " 'class_time': {'time': 8, 'mon': 28},\n",
       " 'mentor': ['sudhanshu', 'Krish', 'anurag']}"
      ]
     },
     "execution_count": 47,
     "metadata": {},
     "output_type": "execute_result"
    }
   ],
   "source": [
    "d6"
   ]
  },
  {
   "cell_type": "code",
   "execution_count": 48,
   "id": "9475b645-a899-4e7f-b77e-63a6784b9a89",
   "metadata": {},
   "outputs": [
    {
     "data": {
      "text/plain": [
       "{12, 14, 28}"
      ]
     },
     "execution_count": 48,
     "metadata": {},
     "output_type": "execute_result"
    }
   ],
   "source": [
    "d6.pop(\"launch_date\")"
   ]
  },
  {
   "cell_type": "code",
   "execution_count": 50,
   "id": "52825f66-a408-43c0-b3e0-0e2d229bf336",
   "metadata": {},
   "outputs": [],
   "source": [
    "l=[22,23,13,\"avi\"]"
   ]
  },
  {
   "cell_type": "code",
   "execution_count": 51,
   "id": "e175fcfa-de2e-4b62-b60a-b64669743f87",
   "metadata": {},
   "outputs": [
    {
     "data": {
      "text/plain": [
       "'avi'"
      ]
     },
     "execution_count": 51,
     "metadata": {},
     "output_type": "execute_result"
    }
   ],
   "source": [
    "l.pop()"
   ]
  },
  {
   "cell_type": "code",
   "execution_count": 52,
   "id": "369bb872-eeb8-4eed-8966-36bb608c16be",
   "metadata": {},
   "outputs": [
    {
     "data": {
      "text/plain": [
       "{'assignment': (1, 2, 3, 2, 340),\n",
       " 'class_time': {'time': 8, 'mon': 28},\n",
       " 'mentor': ['sudhanshu', 'Krish', 'anurag']}"
      ]
     },
     "execution_count": 52,
     "metadata": {},
     "output_type": "execute_result"
    }
   ],
   "source": [
    "d6"
   ]
  },
  {
   "cell_type": "code",
   "execution_count": 53,
   "id": "dd4dea83-595b-4668-a0ac-ee0d71df0ae5",
   "metadata": {},
   "outputs": [],
   "source": [
    "    # CONTROL statement"
   ]
  },
  {
   "cell_type": "code",
   "execution_count": 2,
   "id": "52942cba-58c9-49d1-b03b-5b169f0bf483",
   "metadata": {},
   "outputs": [
    {
     "name": "stdin",
     "output_type": "stream",
     "text": [
      "enter ur Marks 38\n"
     ]
    },
    {
     "name": "stdout",
     "output_type": "stream",
     "text": [
      "A3 Batch Part\n"
     ]
    }
   ],
   "source": [
    "marks =int( input(\"enter ur Marks\"))\n",
    "if marks >=80:\n",
    "    print(\"you will be a part of A0 Batch\")\n",
    "elif marks >=60 and marks<80:\n",
    "    print(\"A1 batch part\")\n",
    "elif marks >=40 and marks <60: \n",
    "    print(\"A2 batch Part\")\n",
    "else:  \n",
    "    print(\"A3 Batch Part\")\n",
    "    "
   ]
  },
  {
   "cell_type": "code",
   "execution_count": 10,
   "id": "e7345198-0d82-436f-b9fe-89a2563bec24",
   "metadata": {},
   "outputs": [
    {
     "name": "stdin",
     "output_type": "stream",
     "text": [
      "enter the price= 4000\n"
     ]
    },
    {
     "name": "stdout",
     "output_type": "stream",
     "text": [
      " not purchase\n",
      "not to much\n"
     ]
    }
   ],
   "source": [
    "price=int(input(\"enter the price=\"))\n",
    "if price > 1000:\n",
    "    print(\" not purchase\")\n",
    "    if price > 5000:\n",
    "        print(\"To much\")\n",
    "    else:\n",
    "        print(\"not to much\")    \n",
    "else:\n",
    "    print(\"purchase\")"
   ]
  },
  {
   "cell_type": "code",
   "execution_count": 11,
   "id": "83b815a9-7407-45ed-b6ce-d2c8517a7799",
   "metadata": {},
   "outputs": [],
   "source": [
    "l=[1,2,3,4,5,6,7,8]"
   ]
  },
  {
   "cell_type": "code",
   "execution_count": 12,
   "id": "f4e82e0a-1684-452f-b604-9dd5a60fa352",
   "metadata": {},
   "outputs": [],
   "source": [
    "l1=[]"
   ]
  },
  {
   "cell_type": "code",
   "execution_count": 13,
   "id": "1759b1a1-91ba-44d3-94c2-783993e2cbd3",
   "metadata": {},
   "outputs": [],
   "source": [
    "l1.append(l[0]+1)"
   ]
  },
  {
   "cell_type": "code",
   "execution_count": 14,
   "id": "161b6a44-148f-4cc9-b75b-1fc6e410586c",
   "metadata": {},
   "outputs": [
    {
     "data": {
      "text/plain": [
       "[2]"
      ]
     },
     "execution_count": 14,
     "metadata": {},
     "output_type": "execute_result"
    }
   ],
   "source": [
    "l1"
   ]
  },
  {
   "cell_type": "code",
   "execution_count": 15,
   "id": "9b9c8e0b-9f15-498b-aabd-fadc41acaa16",
   "metadata": {},
   "outputs": [],
   "source": [
    "l=[1,2,3,4,5,6,7,8]"
   ]
  },
  {
   "cell_type": "code",
   "execution_count": 22,
   "id": "d5c63d1e-f82c-4f3f-9fb8-3f0eee4355e1",
   "metadata": {},
   "outputs": [
    {
     "name": "stdout",
     "output_type": "stream",
     "text": [
      "2\n",
      "3\n",
      "4\n",
      "5\n",
      "6\n",
      "7\n",
      "8\n",
      "9\n"
     ]
    }
   ],
   "source": [
    "l1=[]\n",
    "for i in l:\n",
    "    print(i+1)\n",
    "    l1.append(i+1)"
   ]
  },
  {
   "cell_type": "code",
   "execution_count": 23,
   "id": "3f8c7186-de91-44ac-8aa5-767d059612f8",
   "metadata": {},
   "outputs": [
    {
     "data": {
      "text/plain": [
       "[2, 3, 4, 5, 6, 7, 8, 9]"
      ]
     },
     "execution_count": 23,
     "metadata": {},
     "output_type": "execute_result"
    }
   ],
   "source": [
    "l1"
   ]
  },
  {
   "cell_type": "code",
   "execution_count": 26,
   "id": "b167bcd0-cced-4cdf-bfa5-66dcb09fc294",
   "metadata": {},
   "outputs": [
    {
     "name": "stdout",
     "output_type": "stream",
     "text": [
      "avir\n",
      "pandey\n",
      "pwskills\n",
      "course\n"
     ]
    }
   ],
   "source": [
    "l=[\"avir\",\"pandey\",\"pwskills\",\"course\"]\n",
    "l1=[]\n",
    "for i in l:\n",
    "    print(i)\n",
    "    l1.append(i.upper())\n",
    "    \n",
    "    "
   ]
  },
  {
   "cell_type": "code",
   "execution_count": 27,
   "id": "5469d544-4597-43ca-b741-7d37d2803101",
   "metadata": {},
   "outputs": [
    {
     "data": {
      "text/plain": [
       "['AVIR', 'PANDEY', 'PWSKILLS', 'COURSE']"
      ]
     },
     "execution_count": 27,
     "metadata": {},
     "output_type": "execute_result"
    }
   ],
   "source": [
    "l1"
   ]
  },
  {
   "cell_type": "code",
   "execution_count": 28,
   "id": "116e36f9-1345-4dd0-adae-d00a625c128d",
   "metadata": {},
   "outputs": [
    {
     "data": {
      "text/plain": [
       "'avir'"
      ]
     },
     "execution_count": 28,
     "metadata": {},
     "output_type": "execute_result"
    }
   ],
   "source": [
    "l1[0].lower()"
   ]
  },
  {
   "cell_type": "code",
   "execution_count": 29,
   "id": "bf3e7c75-6d8b-4f89-bfe1-690729093a76",
   "metadata": {},
   "outputs": [
    {
     "data": {
      "text/plain": [
       "['AVIR', 'PANDEY', 'PWSKILLS', 'COURSE']"
      ]
     },
     "execution_count": 29,
     "metadata": {},
     "output_type": "execute_result"
    }
   ],
   "source": [
    "l1"
   ]
  },
  {
   "cell_type": "code",
   "execution_count": 30,
   "id": "63da54f3-60ad-48e5-952a-4916b6999bd9",
   "metadata": {},
   "outputs": [],
   "source": [
    "l=[1,2,3,4,4,\"avir\",\"pandey\",324,34,456,\"abc\"]"
   ]
  },
  {
   "cell_type": "code",
   "execution_count": 38,
   "id": "ef979b7e-acd5-4d1c-9ca3-c210a29f1249",
   "metadata": {},
   "outputs": [],
   "source": [
    "l1_num=[]\n",
    "l2_str=[]\n",
    "for i in l:\n",
    "    if type(i) ==int or type(i) == float:\n",
    "        l1_num.append(i)\n",
    "    else:\n",
    "        l2_str.append(i)\n",
    "        "
   ]
  },
  {
   "cell_type": "code",
   "execution_count": 40,
   "id": "f24d90d7-a729-4447-a03e-a2696c1f1f91",
   "metadata": {},
   "outputs": [
    {
     "data": {
      "text/plain": [
       "[1, 2, 3, 4, 4, 324, 34, 456]"
      ]
     },
     "execution_count": 40,
     "metadata": {},
     "output_type": "execute_result"
    }
   ],
   "source": [
    "l1_num"
   ]
  },
  {
   "cell_type": "code",
   "execution_count": 41,
   "id": "c2af0531-d35b-489d-b3bb-131fa8ee0eda",
   "metadata": {},
   "outputs": [
    {
     "data": {
      "text/plain": [
       "['avir', 'pandey', 'abc']"
      ]
     },
     "execution_count": 41,
     "metadata": {},
     "output_type": "execute_result"
    }
   ],
   "source": [
    "l2_str"
   ]
  },
  {
   "cell_type": "code",
   "execution_count": null,
   "id": "3aa25314-411b-417e-aca0-647e4d27c922",
   "metadata": {},
   "outputs": [],
   "source": []
  }
 ],
 "metadata": {
  "kernelspec": {
   "display_name": "Python 3 (ipykernel)",
   "language": "python",
   "name": "python3"
  },
  "language_info": {
   "codemirror_mode": {
    "name": "ipython",
    "version": 3
   },
   "file_extension": ".py",
   "mimetype": "text/x-python",
   "name": "python",
   "nbconvert_exporter": "python",
   "pygments_lexer": "ipython3",
   "version": "3.10.6"
  }
 },
 "nbformat": 4,
 "nbformat_minor": 5
}
